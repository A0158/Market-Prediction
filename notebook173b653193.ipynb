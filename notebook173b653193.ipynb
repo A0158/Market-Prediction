{
 "cells": [
  {
   "cell_type": "code",
   "execution_count": 2,
   "metadata": {
    "_cell_guid": "b1076dfc-b9ad-4769-8c92-a6c4dae69d19",
    "_uuid": "8f2839f25d086af736a60e9eeb907d3b93b6e0e5",
    "execution": {
     "iopub.execute_input": "2022-12-23T18:02:20.618226Z",
     "iopub.status.busy": "2022-12-23T18:02:20.617747Z",
     "iopub.status.idle": "2022-12-23T18:02:20.627580Z",
     "shell.execute_reply": "2022-12-23T18:02:20.625941Z",
     "shell.execute_reply.started": "2022-12-23T18:02:20.618188Z"
    }
   },
   "outputs": [
    {
     "ename": "ImportError",
     "evalue": "cannot import name 'issparse' from 'scipy.sparse' (unknown location)",
     "output_type": "error",
     "traceback": [
      "\u001b[1;31m---------------------------------------------------------------------------\u001b[0m",
      "\u001b[1;31mImportError\u001b[0m                               Traceback (most recent call last)",
      "\u001b[1;32m~\\AppData\\Local\\Temp/ipykernel_9448/1916948964.py\u001b[0m in \u001b[0;36m<module>\u001b[1;34m\u001b[0m\n\u001b[0;32m      5\u001b[0m \u001b[1;32mimport\u001b[0m \u001b[0mnumpy\u001b[0m \u001b[1;32mas\u001b[0m \u001b[0mnp\u001b[0m \u001b[1;31m# linear algebra\u001b[0m\u001b[1;33m\u001b[0m\u001b[1;33m\u001b[0m\u001b[0m\n\u001b[0;32m      6\u001b[0m \u001b[1;32mimport\u001b[0m \u001b[0mpandas\u001b[0m \u001b[1;32mas\u001b[0m \u001b[0mpd\u001b[0m \u001b[1;31m# data processing, CSV file I/O (e.g. pd.read_csv)\u001b[0m\u001b[1;33m\u001b[0m\u001b[1;33m\u001b[0m\u001b[0m\n\u001b[1;32m----> 7\u001b[1;33m \u001b[1;32mfrom\u001b[0m \u001b[0msklearn\u001b[0m\u001b[1;33m.\u001b[0m\u001b[0mmodel_selection\u001b[0m \u001b[1;32mimport\u001b[0m \u001b[0mtrain_test_split\u001b[0m\u001b[1;33m\u001b[0m\u001b[1;33m\u001b[0m\u001b[0m\n\u001b[0m\u001b[0;32m      8\u001b[0m \u001b[1;32mfrom\u001b[0m \u001b[0msklearn\u001b[0m\u001b[1;33m.\u001b[0m\u001b[0mmetrics\u001b[0m \u001b[1;32mimport\u001b[0m \u001b[0maccuracy_score\u001b[0m\u001b[1;33m,\u001b[0m\u001b[0mf1_score\u001b[0m\u001b[1;33m,\u001b[0m\u001b[0mroc_auc_score\u001b[0m\u001b[1;33m\u001b[0m\u001b[1;33m\u001b[0m\u001b[0m\n\u001b[0;32m      9\u001b[0m \u001b[1;33m\u001b[0m\u001b[0m\n",
      "\u001b[1;32mD:\\Anaconda\\lib\\site-packages\\sklearn\\__init__.py\u001b[0m in \u001b[0;36m<module>\u001b[1;34m\u001b[0m\n\u001b[0;32m     80\u001b[0m     \u001b[1;32mfrom\u001b[0m \u001b[1;33m.\u001b[0m \u001b[1;32mimport\u001b[0m \u001b[0m_distributor_init\u001b[0m  \u001b[1;31m# noqa: F401\u001b[0m\u001b[1;33m\u001b[0m\u001b[1;33m\u001b[0m\u001b[0m\n\u001b[0;32m     81\u001b[0m     \u001b[1;32mfrom\u001b[0m \u001b[1;33m.\u001b[0m \u001b[1;32mimport\u001b[0m \u001b[0m__check_build\u001b[0m  \u001b[1;31m# noqa: F401\u001b[0m\u001b[1;33m\u001b[0m\u001b[1;33m\u001b[0m\u001b[0m\n\u001b[1;32m---> 82\u001b[1;33m     \u001b[1;32mfrom\u001b[0m \u001b[1;33m.\u001b[0m\u001b[0mbase\u001b[0m \u001b[1;32mimport\u001b[0m \u001b[0mclone\u001b[0m\u001b[1;33m\u001b[0m\u001b[1;33m\u001b[0m\u001b[0m\n\u001b[0m\u001b[0;32m     83\u001b[0m     \u001b[1;32mfrom\u001b[0m \u001b[1;33m.\u001b[0m\u001b[0mutils\u001b[0m\u001b[1;33m.\u001b[0m\u001b[0m_show_versions\u001b[0m \u001b[1;32mimport\u001b[0m \u001b[0mshow_versions\u001b[0m\u001b[1;33m\u001b[0m\u001b[1;33m\u001b[0m\u001b[0m\n\u001b[0;32m     84\u001b[0m \u001b[1;33m\u001b[0m\u001b[0m\n",
      "\u001b[1;32mD:\\Anaconda\\lib\\site-packages\\sklearn\\base.py\u001b[0m in \u001b[0;36m<module>\u001b[1;34m\u001b[0m\n\u001b[0;32m     15\u001b[0m \u001b[1;32mfrom\u001b[0m \u001b[1;33m.\u001b[0m \u001b[1;32mimport\u001b[0m \u001b[0m__version__\u001b[0m\u001b[1;33m\u001b[0m\u001b[1;33m\u001b[0m\u001b[0m\n\u001b[0;32m     16\u001b[0m \u001b[1;32mfrom\u001b[0m \u001b[1;33m.\u001b[0m\u001b[0m_config\u001b[0m \u001b[1;32mimport\u001b[0m \u001b[0mget_config\u001b[0m\u001b[1;33m\u001b[0m\u001b[1;33m\u001b[0m\u001b[0m\n\u001b[1;32m---> 17\u001b[1;33m \u001b[1;32mfrom\u001b[0m \u001b[1;33m.\u001b[0m\u001b[0mutils\u001b[0m \u001b[1;32mimport\u001b[0m \u001b[0m_IS_32BIT\u001b[0m\u001b[1;33m\u001b[0m\u001b[1;33m\u001b[0m\u001b[0m\n\u001b[0m\u001b[0;32m     18\u001b[0m from .utils._tags import (\n\u001b[0;32m     19\u001b[0m     \u001b[0m_DEFAULT_TAGS\u001b[0m\u001b[1;33m,\u001b[0m\u001b[1;33m\u001b[0m\u001b[1;33m\u001b[0m\u001b[0m\n",
      "\u001b[1;32mD:\\Anaconda\\lib\\site-packages\\sklearn\\utils\\__init__.py\u001b[0m in \u001b[0;36m<module>\u001b[1;34m\u001b[0m\n\u001b[0;32m     19\u001b[0m \u001b[1;32mimport\u001b[0m \u001b[0mwarnings\u001b[0m\u001b[1;33m\u001b[0m\u001b[1;33m\u001b[0m\u001b[0m\n\u001b[0;32m     20\u001b[0m \u001b[1;32mimport\u001b[0m \u001b[0mnumpy\u001b[0m \u001b[1;32mas\u001b[0m \u001b[0mnp\u001b[0m\u001b[1;33m\u001b[0m\u001b[1;33m\u001b[0m\u001b[0m\n\u001b[1;32m---> 21\u001b[1;33m \u001b[1;32mfrom\u001b[0m \u001b[0mscipy\u001b[0m\u001b[1;33m.\u001b[0m\u001b[0msparse\u001b[0m \u001b[1;32mimport\u001b[0m \u001b[0missparse\u001b[0m\u001b[1;33m\u001b[0m\u001b[1;33m\u001b[0m\u001b[0m\n\u001b[0m\u001b[0;32m     22\u001b[0m \u001b[1;33m\u001b[0m\u001b[0m\n\u001b[0;32m     23\u001b[0m \u001b[1;32mfrom\u001b[0m \u001b[1;33m.\u001b[0m\u001b[0mmurmurhash\u001b[0m \u001b[1;32mimport\u001b[0m \u001b[0mmurmurhash3_32\u001b[0m\u001b[1;33m\u001b[0m\u001b[1;33m\u001b[0m\u001b[0m\n",
      "\u001b[1;31mImportError\u001b[0m: cannot import name 'issparse' from 'scipy.sparse' (unknown location)"
     ]
    }
   ],
   "source": [
    "# This Python 3 environment comes with many helpful analytics libraries installed\n",
    "# It is defined by the kaggle/python Docker image: https://github.com/kaggle/docker-python\n",
    "# For example, here's several helpful packages to load\n",
    "\n",
    "import numpy as np # linear algebra\n",
    "import pandas as pd # data processing, CSV file I/O (e.g. pd.read_csv)\n",
    "from sklearn.model_selection import train_test_split\n",
    "from sklearn.metrics import accuracy_score,f1_score,roc_auc_score\n",
    "\n",
    "# Input data files are available in the read-only \"../input/\" directory\n",
    "# For example, running this (by clicking run or pressing Shift+Enter) will list all files under the input directory\n",
    "import lightgbm\n",
    "import os\n",
    "\n",
    "\n",
    "# You can write up to 20GB to the current directory (/kaggle/working/) that gets preserved as output when you create a version using \"Save & Run All\" \n",
    "# You can also write temporary files to /kaggle/temp/, but they won't be saved outside of the current session"
   ]
  },
  {
   "cell_type": "code",
   "execution_count": 6,
   "metadata": {},
   "outputs": [
    {
     "name": "stderr",
     "output_type": "stream",
     "text": [
      "'conda' is not recognized as an internal or external command,\n",
      "operable program or batch file.\n"
     ]
    }
   ],
   "source": [
    "!conda install numpy scipy joblib scikit-learn --force-reinstall"
   ]
  },
  {
   "cell_type": "code",
   "execution_count": 74,
   "metadata": {
    "execution": {
     "iopub.execute_input": "2022-12-23T17:43:36.327411Z",
     "iopub.status.busy": "2022-12-23T17:43:36.326571Z",
     "iopub.status.idle": "2022-12-23T17:43:42.694068Z",
     "shell.execute_reply": "2022-12-23T17:43:42.692826Z",
     "shell.execute_reply.started": "2022-12-23T17:43:36.327356Z"
    }
   },
   "outputs": [],
   "source": [
    "inp = \"/kaggle/input/santander-customer-transaction-prediction\"\n",
    "train_data = pd.read_csv(inp + '/train.csv')\n"
   ]
  },
  {
   "cell_type": "code",
   "execution_count": 75,
   "metadata": {
    "execution": {
     "iopub.execute_input": "2022-12-23T17:43:42.696497Z",
     "iopub.status.busy": "2022-12-23T17:43:42.696042Z",
     "iopub.status.idle": "2022-12-23T17:43:42.780892Z",
     "shell.execute_reply": "2022-12-23T17:43:42.779842Z",
     "shell.execute_reply.started": "2022-12-23T17:43:42.696463Z"
    }
   },
   "outputs": [
    {
     "data": {
      "text/html": [
       "<div>\n",
       "<style scoped>\n",
       "    .dataframe tbody tr th:only-of-type {\n",
       "        vertical-align: middle;\n",
       "    }\n",
       "\n",
       "    .dataframe tbody tr th {\n",
       "        vertical-align: top;\n",
       "    }\n",
       "\n",
       "    .dataframe thead th {\n",
       "        text-align: right;\n",
       "    }\n",
       "</style>\n",
       "<table border=\"1\" class=\"dataframe\">\n",
       "  <thead>\n",
       "    <tr style=\"text-align: right;\">\n",
       "      <th></th>\n",
       "      <th>ID_code</th>\n",
       "      <th>target</th>\n",
       "      <th>var_0</th>\n",
       "      <th>var_1</th>\n",
       "      <th>var_2</th>\n",
       "      <th>var_3</th>\n",
       "      <th>var_4</th>\n",
       "      <th>var_5</th>\n",
       "      <th>var_6</th>\n",
       "      <th>var_7</th>\n",
       "      <th>...</th>\n",
       "      <th>var_190</th>\n",
       "      <th>var_191</th>\n",
       "      <th>var_192</th>\n",
       "      <th>var_193</th>\n",
       "      <th>var_194</th>\n",
       "      <th>var_195</th>\n",
       "      <th>var_196</th>\n",
       "      <th>var_197</th>\n",
       "      <th>var_198</th>\n",
       "      <th>var_199</th>\n",
       "    </tr>\n",
       "  </thead>\n",
       "  <tbody>\n",
       "    <tr>\n",
       "      <th>0</th>\n",
       "      <td>train_0</td>\n",
       "      <td>0</td>\n",
       "      <td>8.9255</td>\n",
       "      <td>-6.7863</td>\n",
       "      <td>11.9081</td>\n",
       "      <td>5.0930</td>\n",
       "      <td>11.4607</td>\n",
       "      <td>-9.2834</td>\n",
       "      <td>5.1187</td>\n",
       "      <td>18.6266</td>\n",
       "      <td>...</td>\n",
       "      <td>4.4354</td>\n",
       "      <td>3.9642</td>\n",
       "      <td>3.1364</td>\n",
       "      <td>1.6910</td>\n",
       "      <td>18.5227</td>\n",
       "      <td>-2.3978</td>\n",
       "      <td>7.8784</td>\n",
       "      <td>8.5635</td>\n",
       "      <td>12.7803</td>\n",
       "      <td>-1.0914</td>\n",
       "    </tr>\n",
       "    <tr>\n",
       "      <th>1</th>\n",
       "      <td>train_1</td>\n",
       "      <td>0</td>\n",
       "      <td>11.5006</td>\n",
       "      <td>-4.1473</td>\n",
       "      <td>13.8588</td>\n",
       "      <td>5.3890</td>\n",
       "      <td>12.3622</td>\n",
       "      <td>7.0433</td>\n",
       "      <td>5.6208</td>\n",
       "      <td>16.5338</td>\n",
       "      <td>...</td>\n",
       "      <td>7.6421</td>\n",
       "      <td>7.7214</td>\n",
       "      <td>2.5837</td>\n",
       "      <td>10.9516</td>\n",
       "      <td>15.4305</td>\n",
       "      <td>2.0339</td>\n",
       "      <td>8.1267</td>\n",
       "      <td>8.7889</td>\n",
       "      <td>18.3560</td>\n",
       "      <td>1.9518</td>\n",
       "    </tr>\n",
       "    <tr>\n",
       "      <th>2</th>\n",
       "      <td>train_2</td>\n",
       "      <td>0</td>\n",
       "      <td>8.6093</td>\n",
       "      <td>-2.7457</td>\n",
       "      <td>12.0805</td>\n",
       "      <td>7.8928</td>\n",
       "      <td>10.5825</td>\n",
       "      <td>-9.0837</td>\n",
       "      <td>6.9427</td>\n",
       "      <td>14.6155</td>\n",
       "      <td>...</td>\n",
       "      <td>2.9057</td>\n",
       "      <td>9.7905</td>\n",
       "      <td>1.6704</td>\n",
       "      <td>1.6858</td>\n",
       "      <td>21.6042</td>\n",
       "      <td>3.1417</td>\n",
       "      <td>-6.5213</td>\n",
       "      <td>8.2675</td>\n",
       "      <td>14.7222</td>\n",
       "      <td>0.3965</td>\n",
       "    </tr>\n",
       "    <tr>\n",
       "      <th>3</th>\n",
       "      <td>train_3</td>\n",
       "      <td>0</td>\n",
       "      <td>11.0604</td>\n",
       "      <td>-2.1518</td>\n",
       "      <td>8.9522</td>\n",
       "      <td>7.1957</td>\n",
       "      <td>12.5846</td>\n",
       "      <td>-1.8361</td>\n",
       "      <td>5.8428</td>\n",
       "      <td>14.9250</td>\n",
       "      <td>...</td>\n",
       "      <td>4.4666</td>\n",
       "      <td>4.7433</td>\n",
       "      <td>0.7178</td>\n",
       "      <td>1.4214</td>\n",
       "      <td>23.0347</td>\n",
       "      <td>-1.2706</td>\n",
       "      <td>-2.9275</td>\n",
       "      <td>10.2922</td>\n",
       "      <td>17.9697</td>\n",
       "      <td>-8.9996</td>\n",
       "    </tr>\n",
       "    <tr>\n",
       "      <th>4</th>\n",
       "      <td>train_4</td>\n",
       "      <td>0</td>\n",
       "      <td>9.8369</td>\n",
       "      <td>-1.4834</td>\n",
       "      <td>12.8746</td>\n",
       "      <td>6.6375</td>\n",
       "      <td>12.2772</td>\n",
       "      <td>2.4486</td>\n",
       "      <td>5.9405</td>\n",
       "      <td>19.2514</td>\n",
       "      <td>...</td>\n",
       "      <td>-1.4905</td>\n",
       "      <td>9.5214</td>\n",
       "      <td>-0.1508</td>\n",
       "      <td>9.1942</td>\n",
       "      <td>13.2876</td>\n",
       "      <td>-1.5121</td>\n",
       "      <td>3.9267</td>\n",
       "      <td>9.5031</td>\n",
       "      <td>17.9974</td>\n",
       "      <td>-8.8104</td>\n",
       "    </tr>\n",
       "    <tr>\n",
       "      <th>...</th>\n",
       "      <td>...</td>\n",
       "      <td>...</td>\n",
       "      <td>...</td>\n",
       "      <td>...</td>\n",
       "      <td>...</td>\n",
       "      <td>...</td>\n",
       "      <td>...</td>\n",
       "      <td>...</td>\n",
       "      <td>...</td>\n",
       "      <td>...</td>\n",
       "      <td>...</td>\n",
       "      <td>...</td>\n",
       "      <td>...</td>\n",
       "      <td>...</td>\n",
       "      <td>...</td>\n",
       "      <td>...</td>\n",
       "      <td>...</td>\n",
       "      <td>...</td>\n",
       "      <td>...</td>\n",
       "      <td>...</td>\n",
       "      <td>...</td>\n",
       "    </tr>\n",
       "    <tr>\n",
       "      <th>199995</th>\n",
       "      <td>train_199995</td>\n",
       "      <td>0</td>\n",
       "      <td>11.4880</td>\n",
       "      <td>-0.4956</td>\n",
       "      <td>8.2622</td>\n",
       "      <td>3.5142</td>\n",
       "      <td>10.3404</td>\n",
       "      <td>11.6081</td>\n",
       "      <td>5.6709</td>\n",
       "      <td>15.1516</td>\n",
       "      <td>...</td>\n",
       "      <td>6.1415</td>\n",
       "      <td>13.2305</td>\n",
       "      <td>3.9901</td>\n",
       "      <td>0.9388</td>\n",
       "      <td>18.0249</td>\n",
       "      <td>-1.7939</td>\n",
       "      <td>2.1661</td>\n",
       "      <td>8.5326</td>\n",
       "      <td>16.6660</td>\n",
       "      <td>-17.8661</td>\n",
       "    </tr>\n",
       "    <tr>\n",
       "      <th>199996</th>\n",
       "      <td>train_199996</td>\n",
       "      <td>0</td>\n",
       "      <td>4.9149</td>\n",
       "      <td>-2.4484</td>\n",
       "      <td>16.7052</td>\n",
       "      <td>6.6345</td>\n",
       "      <td>8.3096</td>\n",
       "      <td>-10.5628</td>\n",
       "      <td>5.8802</td>\n",
       "      <td>21.5940</td>\n",
       "      <td>...</td>\n",
       "      <td>4.9611</td>\n",
       "      <td>4.6549</td>\n",
       "      <td>0.6998</td>\n",
       "      <td>1.8341</td>\n",
       "      <td>22.2717</td>\n",
       "      <td>1.7337</td>\n",
       "      <td>-2.1651</td>\n",
       "      <td>6.7419</td>\n",
       "      <td>15.9054</td>\n",
       "      <td>0.3388</td>\n",
       "    </tr>\n",
       "    <tr>\n",
       "      <th>199997</th>\n",
       "      <td>train_199997</td>\n",
       "      <td>0</td>\n",
       "      <td>11.2232</td>\n",
       "      <td>-5.0518</td>\n",
       "      <td>10.5127</td>\n",
       "      <td>5.6456</td>\n",
       "      <td>9.3410</td>\n",
       "      <td>-5.4086</td>\n",
       "      <td>4.5555</td>\n",
       "      <td>21.5571</td>\n",
       "      <td>...</td>\n",
       "      <td>4.0651</td>\n",
       "      <td>5.4414</td>\n",
       "      <td>3.1032</td>\n",
       "      <td>4.8793</td>\n",
       "      <td>23.5311</td>\n",
       "      <td>-1.5736</td>\n",
       "      <td>1.2832</td>\n",
       "      <td>8.7155</td>\n",
       "      <td>13.8329</td>\n",
       "      <td>4.1995</td>\n",
       "    </tr>\n",
       "    <tr>\n",
       "      <th>199998</th>\n",
       "      <td>train_199998</td>\n",
       "      <td>0</td>\n",
       "      <td>9.7148</td>\n",
       "      <td>-8.6098</td>\n",
       "      <td>13.6104</td>\n",
       "      <td>5.7930</td>\n",
       "      <td>12.5173</td>\n",
       "      <td>0.5339</td>\n",
       "      <td>6.0479</td>\n",
       "      <td>17.0152</td>\n",
       "      <td>...</td>\n",
       "      <td>2.6840</td>\n",
       "      <td>8.6587</td>\n",
       "      <td>2.7337</td>\n",
       "      <td>11.1178</td>\n",
       "      <td>20.4158</td>\n",
       "      <td>-0.0786</td>\n",
       "      <td>6.7980</td>\n",
       "      <td>10.0342</td>\n",
       "      <td>15.5289</td>\n",
       "      <td>-13.9001</td>\n",
       "    </tr>\n",
       "    <tr>\n",
       "      <th>199999</th>\n",
       "      <td>train_199999</td>\n",
       "      <td>0</td>\n",
       "      <td>10.8762</td>\n",
       "      <td>-5.7105</td>\n",
       "      <td>12.1183</td>\n",
       "      <td>8.0328</td>\n",
       "      <td>11.5577</td>\n",
       "      <td>0.3488</td>\n",
       "      <td>5.2839</td>\n",
       "      <td>15.2058</td>\n",
       "      <td>...</td>\n",
       "      <td>8.9842</td>\n",
       "      <td>1.6893</td>\n",
       "      <td>0.1276</td>\n",
       "      <td>0.3766</td>\n",
       "      <td>15.2101</td>\n",
       "      <td>-2.4907</td>\n",
       "      <td>-2.2342</td>\n",
       "      <td>8.1857</td>\n",
       "      <td>12.1284</td>\n",
       "      <td>0.1385</td>\n",
       "    </tr>\n",
       "  </tbody>\n",
       "</table>\n",
       "<p>200000 rows × 202 columns</p>\n",
       "</div>"
      ],
      "text/plain": [
       "             ID_code  target    var_0   var_1    var_2   var_3    var_4  \\\n",
       "0            train_0       0   8.9255 -6.7863  11.9081  5.0930  11.4607   \n",
       "1            train_1       0  11.5006 -4.1473  13.8588  5.3890  12.3622   \n",
       "2            train_2       0   8.6093 -2.7457  12.0805  7.8928  10.5825   \n",
       "3            train_3       0  11.0604 -2.1518   8.9522  7.1957  12.5846   \n",
       "4            train_4       0   9.8369 -1.4834  12.8746  6.6375  12.2772   \n",
       "...              ...     ...      ...     ...      ...     ...      ...   \n",
       "199995  train_199995       0  11.4880 -0.4956   8.2622  3.5142  10.3404   \n",
       "199996  train_199996       0   4.9149 -2.4484  16.7052  6.6345   8.3096   \n",
       "199997  train_199997       0  11.2232 -5.0518  10.5127  5.6456   9.3410   \n",
       "199998  train_199998       0   9.7148 -8.6098  13.6104  5.7930  12.5173   \n",
       "199999  train_199999       0  10.8762 -5.7105  12.1183  8.0328  11.5577   \n",
       "\n",
       "          var_5   var_6    var_7  ...  var_190  var_191  var_192  var_193  \\\n",
       "0       -9.2834  5.1187  18.6266  ...   4.4354   3.9642   3.1364   1.6910   \n",
       "1        7.0433  5.6208  16.5338  ...   7.6421   7.7214   2.5837  10.9516   \n",
       "2       -9.0837  6.9427  14.6155  ...   2.9057   9.7905   1.6704   1.6858   \n",
       "3       -1.8361  5.8428  14.9250  ...   4.4666   4.7433   0.7178   1.4214   \n",
       "4        2.4486  5.9405  19.2514  ...  -1.4905   9.5214  -0.1508   9.1942   \n",
       "...         ...     ...      ...  ...      ...      ...      ...      ...   \n",
       "199995  11.6081  5.6709  15.1516  ...   6.1415  13.2305   3.9901   0.9388   \n",
       "199996 -10.5628  5.8802  21.5940  ...   4.9611   4.6549   0.6998   1.8341   \n",
       "199997  -5.4086  4.5555  21.5571  ...   4.0651   5.4414   3.1032   4.8793   \n",
       "199998   0.5339  6.0479  17.0152  ...   2.6840   8.6587   2.7337  11.1178   \n",
       "199999   0.3488  5.2839  15.2058  ...   8.9842   1.6893   0.1276   0.3766   \n",
       "\n",
       "        var_194  var_195  var_196  var_197  var_198  var_199  \n",
       "0       18.5227  -2.3978   7.8784   8.5635  12.7803  -1.0914  \n",
       "1       15.4305   2.0339   8.1267   8.7889  18.3560   1.9518  \n",
       "2       21.6042   3.1417  -6.5213   8.2675  14.7222   0.3965  \n",
       "3       23.0347  -1.2706  -2.9275  10.2922  17.9697  -8.9996  \n",
       "4       13.2876  -1.5121   3.9267   9.5031  17.9974  -8.8104  \n",
       "...         ...      ...      ...      ...      ...      ...  \n",
       "199995  18.0249  -1.7939   2.1661   8.5326  16.6660 -17.8661  \n",
       "199996  22.2717   1.7337  -2.1651   6.7419  15.9054   0.3388  \n",
       "199997  23.5311  -1.5736   1.2832   8.7155  13.8329   4.1995  \n",
       "199998  20.4158  -0.0786   6.7980  10.0342  15.5289 -13.9001  \n",
       "199999  15.2101  -2.4907  -2.2342   8.1857  12.1284   0.1385  \n",
       "\n",
       "[200000 rows x 202 columns]"
      ]
     },
     "execution_count": 75,
     "metadata": {},
     "output_type": "execute_result"
    }
   ],
   "source": [
    "train_data"
   ]
  },
  {
   "cell_type": "code",
   "execution_count": 76,
   "metadata": {
    "execution": {
     "iopub.execute_input": "2022-12-23T17:43:42.783221Z",
     "iopub.status.busy": "2022-12-23T17:43:42.782586Z",
     "iopub.status.idle": "2022-12-23T17:43:42.898007Z",
     "shell.execute_reply": "2022-12-23T17:43:42.896878Z",
     "shell.execute_reply.started": "2022-12-23T17:43:42.783163Z"
    }
   },
   "outputs": [
    {
     "data": {
      "text/plain": [
       "0         0\n",
       "1         0\n",
       "2         0\n",
       "3         0\n",
       "4         0\n",
       "         ..\n",
       "199995    0\n",
       "199996    0\n",
       "199997    0\n",
       "199998    0\n",
       "199999    0\n",
       "Name: target, Length: 200000, dtype: int64"
      ]
     },
     "execution_count": 76,
     "metadata": {},
     "output_type": "execute_result"
    }
   ],
   "source": [
    "X  = train_data.iloc[:,2:]\n",
    "y = train_data.iloc[:,1]\n",
    "y"
   ]
  },
  {
   "cell_type": "code",
   "execution_count": 77,
   "metadata": {
    "execution": {
     "iopub.execute_input": "2022-12-23T17:43:42.902258Z",
     "iopub.status.busy": "2022-12-23T17:43:42.900462Z",
     "iopub.status.idle": "2022-12-23T17:43:42.910500Z",
     "shell.execute_reply": "2022-12-23T17:43:42.908822Z",
     "shell.execute_reply.started": "2022-12-23T17:43:42.902199Z"
    }
   },
   "outputs": [],
   "source": [
    "from sklearn.preprocessing import StandardScaler"
   ]
  },
  {
   "cell_type": "code",
   "execution_count": 78,
   "metadata": {
    "execution": {
     "iopub.execute_input": "2022-12-23T17:43:42.912077Z",
     "iopub.status.busy": "2022-12-23T17:43:42.911721Z",
     "iopub.status.idle": "2022-12-23T17:43:43.501067Z",
     "shell.execute_reply": "2022-12-23T17:43:43.499808Z",
     "shell.execute_reply.started": "2022-12-23T17:43:42.912045Z"
    }
   },
   "outputs": [],
   "source": [
    "scale=StandardScaler()\n",
    "X=scale.fit_transform(X)"
   ]
  },
  {
   "cell_type": "code",
   "execution_count": 79,
   "metadata": {
    "execution": {
     "iopub.execute_input": "2022-12-23T17:43:43.810218Z",
     "iopub.status.busy": "2022-12-23T17:43:43.809137Z",
     "iopub.status.idle": "2022-12-23T17:43:43.815863Z",
     "shell.execute_reply": "2022-12-23T17:43:43.814501Z",
     "shell.execute_reply.started": "2022-12-23T17:43:43.810167Z"
    }
   },
   "outputs": [],
   "source": [
    "from sklearn.preprocessing import LabelEncoder"
   ]
  },
  {
   "cell_type": "code",
   "execution_count": 80,
   "metadata": {
    "execution": {
     "iopub.execute_input": "2022-12-23T17:43:45.195481Z",
     "iopub.status.busy": "2022-12-23T17:43:45.194773Z",
     "iopub.status.idle": "2022-12-23T17:43:45.211467Z",
     "shell.execute_reply": "2022-12-23T17:43:45.209743Z",
     "shell.execute_reply.started": "2022-12-23T17:43:45.195414Z"
    }
   },
   "outputs": [],
   "source": [
    "sc = LabelEncoder()\n",
    "y = sc.fit_transform(y)"
   ]
  },
  {
   "cell_type": "code",
   "execution_count": 81,
   "metadata": {
    "execution": {
     "iopub.execute_input": "2022-12-23T17:43:46.504286Z",
     "iopub.status.busy": "2022-12-23T17:43:46.503823Z",
     "iopub.status.idle": "2022-12-23T17:43:46.510650Z",
     "shell.execute_reply": "2022-12-23T17:43:46.509475Z",
     "shell.execute_reply.started": "2022-12-23T17:43:46.504252Z"
    }
   },
   "outputs": [],
   "source": [
    "\n",
    "X = pd.DataFrame(X)"
   ]
  },
  {
   "cell_type": "code",
   "execution_count": 84,
   "metadata": {
    "execution": {
     "iopub.execute_input": "2022-12-23T17:44:09.961286Z",
     "iopub.status.busy": "2022-12-23T17:44:09.960742Z",
     "iopub.status.idle": "2022-12-23T17:44:09.967933Z",
     "shell.execute_reply": "2022-12-23T17:44:09.966354Z",
     "shell.execute_reply.started": "2022-12-23T17:44:09.961239Z"
    }
   },
   "outputs": [],
   "source": [
    "y = pd.Series(y)"
   ]
  },
  {
   "cell_type": "code",
   "execution_count": 86,
   "metadata": {
    "execution": {
     "iopub.execute_input": "2022-12-23T17:44:18.976215Z",
     "iopub.status.busy": "2022-12-23T17:44:18.975807Z",
     "iopub.status.idle": "2022-12-23T17:44:18.984145Z",
     "shell.execute_reply": "2022-12-23T17:44:18.982788Z",
     "shell.execute_reply.started": "2022-12-23T17:44:18.976180Z"
    }
   },
   "outputs": [
    {
     "data": {
      "text/plain": [
       "(200000,)"
      ]
     },
     "execution_count": 86,
     "metadata": {},
     "output_type": "execute_result"
    }
   ],
   "source": [
    "y.shape"
   ]
  },
  {
   "cell_type": "code",
   "execution_count": 94,
   "metadata": {
    "execution": {
     "iopub.execute_input": "2022-12-23T17:45:20.462006Z",
     "iopub.status.busy": "2022-12-23T17:45:20.461553Z",
     "iopub.status.idle": "2022-12-23T17:45:21.058311Z",
     "shell.execute_reply": "2022-12-23T17:45:21.056923Z",
     "shell.execute_reply.started": "2022-12-23T17:45:20.461970Z"
    }
   },
   "outputs": [],
   "source": [
    "X_train,X_test,y_train,y_test  = train_test_split(X,y,test_size=0.7,random_state=6)"
   ]
  },
  {
   "cell_type": "code",
   "execution_count": 95,
   "metadata": {
    "execution": {
     "iopub.execute_input": "2022-12-23T17:45:23.054676Z",
     "iopub.status.busy": "2022-12-23T17:45:23.053477Z",
     "iopub.status.idle": "2022-12-23T17:45:23.068428Z",
     "shell.execute_reply": "2022-12-23T17:45:23.066810Z",
     "shell.execute_reply.started": "2022-12-23T17:45:23.054629Z"
    }
   },
   "outputs": [
    {
     "data": {
      "text/plain": [
       "96484     0\n",
       "113038    0\n",
       "74327     0\n",
       "34142     0\n",
       "98880     0\n",
       "         ..\n",
       "195949    0\n",
       "4714      0\n",
       "41187     0\n",
       "117449    0\n",
       "162698    0\n",
       "Length: 60000, dtype: int64"
      ]
     },
     "execution_count": 95,
     "metadata": {},
     "output_type": "execute_result"
    }
   ],
   "source": [
    "y_train"
   ]
  },
  {
   "cell_type": "code",
   "execution_count": 96,
   "metadata": {
    "execution": {
     "iopub.execute_input": "2022-12-23T17:45:28.177338Z",
     "iopub.status.busy": "2022-12-23T17:45:28.176713Z",
     "iopub.status.idle": "2022-12-23T17:45:28.184958Z",
     "shell.execute_reply": "2022-12-23T17:45:28.183274Z",
     "shell.execute_reply.started": "2022-12-23T17:45:28.177293Z"
    }
   },
   "outputs": [],
   "source": [
    "train_data = lightgbm.Dataset(X_train,label=y_train)\n",
    "valid_data = lightgbm.Dataset(X_test,label=y_test)"
   ]
  },
  {
   "cell_type": "code",
   "execution_count": 97,
   "metadata": {
    "execution": {
     "iopub.execute_input": "2022-12-23T17:45:28.632055Z",
     "iopub.status.busy": "2022-12-23T17:45:28.631620Z",
     "iopub.status.idle": "2022-12-23T17:45:28.643157Z",
     "shell.execute_reply": "2022-12-23T17:45:28.641169Z",
     "shell.execute_reply.started": "2022-12-23T17:45:28.632018Z"
    }
   },
   "outputs": [],
   "source": [
    "parameters = {'objective':'binary',\n",
    "              'metric':'auc',\n",
    "              'boosting':'dart',\n",
    "              'num_leaves':72,\n",
    "              'feature_fraction':0.5,\n",
    "              \"bagging_fraction\": 0.5,\n",
    "              'bagging_freq': 20,\n",
    "              'learning_rate':0.1   \n",
    "}"
   ]
  },
  {
   "cell_type": "code",
   "execution_count": 101,
   "metadata": {
    "execution": {
     "iopub.execute_input": "2022-12-23T17:53:53.810205Z",
     "iopub.status.busy": "2022-12-23T17:53:53.809736Z",
     "iopub.status.idle": "2022-12-23T17:53:53.816379Z",
     "shell.execute_reply": "2022-12-23T17:53:53.814803Z",
     "shell.execute_reply.started": "2022-12-23T17:53:53.810161Z"
    }
   },
   "outputs": [],
   "source": []
  },
  {
   "cell_type": "code",
   "execution_count": 104,
   "metadata": {
    "execution": {
     "iopub.execute_input": "2022-12-23T18:00:03.757080Z",
     "iopub.status.busy": "2022-12-23T18:00:03.756289Z",
     "iopub.status.idle": "2022-12-23T18:00:12.705858Z",
     "shell.execute_reply": "2022-12-23T18:00:12.704631Z",
     "shell.execute_reply.started": "2022-12-23T18:00:03.757037Z"
    }
   },
   "outputs": [
    {
     "name": "stdout",
     "output_type": "stream",
     "text": [
      "[LightGBM] [Info] Number of positive: 6188, number of negative: 53812\n",
      "[LightGBM] [Warning] Auto-choosing col-wise multi-threading, the overhead of testing was 0.094194 seconds.\n",
      "You can set `force_col_wise=true` to remove the overhead.\n",
      "[LightGBM] [Info] Total Bins 51000\n",
      "[LightGBM] [Info] Number of data points in the train set: 60000, number of used features: 200\n",
      "[LightGBM] [Info] [binary:BoostFromScore]: pavg=0.103133 -> initscore=-2.162885\n",
      "[LightGBM] [Info] Start training from score -2.162885\n",
      "[1]\tvalid_0's auc: 0.64405\n",
      "[2]\tvalid_0's auc: 0.679208\n",
      "[3]\tvalid_0's auc: 0.700514\n",
      "[4]\tvalid_0's auc: 0.709261\n",
      "[5]\tvalid_0's auc: 0.715019\n",
      "[6]\tvalid_0's auc: 0.726322\n",
      "[7]\tvalid_0's auc: 0.732189\n",
      "[8]\tvalid_0's auc: 0.735505\n",
      "[9]\tvalid_0's auc: 0.744709\n",
      "[10]\tvalid_0's auc: 0.74912\n",
      "[11]\tvalid_0's auc: 0.754123\n",
      "[12]\tvalid_0's auc: 0.756285\n",
      "[13]\tvalid_0's auc: 0.761306\n",
      "[14]\tvalid_0's auc: 0.767038\n",
      "[15]\tvalid_0's auc: 0.769969\n",
      "[16]\tvalid_0's auc: 0.771937\n",
      "[17]\tvalid_0's auc: 0.775241\n",
      "[18]\tvalid_0's auc: 0.778642\n",
      "[19]\tvalid_0's auc: 0.780372\n",
      "[20]\tvalid_0's auc: 0.782042\n",
      "[21]\tvalid_0's auc: 0.783701\n",
      "[22]\tvalid_0's auc: 0.786644\n",
      "[23]\tvalid_0's auc: 0.788756\n",
      "[24]\tvalid_0's auc: 0.791508\n",
      "[25]\tvalid_0's auc: 0.7946\n",
      "[26]\tvalid_0's auc: 0.797032\n",
      "[27]\tvalid_0's auc: 0.798355\n",
      "[28]\tvalid_0's auc: 0.798559\n",
      "[29]\tvalid_0's auc: 0.800647\n",
      "[30]\tvalid_0's auc: 0.802168\n",
      "[31]\tvalid_0's auc: 0.803583\n",
      "[32]\tvalid_0's auc: 0.805422\n",
      "[33]\tvalid_0's auc: 0.806889\n",
      "[34]\tvalid_0's auc: 0.808757\n",
      "[35]\tvalid_0's auc: 0.808803\n",
      "[36]\tvalid_0's auc: 0.809132\n",
      "[37]\tvalid_0's auc: 0.811159\n",
      "[38]\tvalid_0's auc: 0.813569\n",
      "[39]\tvalid_0's auc: 0.814895\n",
      "[40]\tvalid_0's auc: 0.815402\n",
      "[41]\tvalid_0's auc: 0.815459\n",
      "[42]\tvalid_0's auc: 0.816978\n",
      "[43]\tvalid_0's auc: 0.816917\n",
      "[44]\tvalid_0's auc: 0.817742\n",
      "[45]\tvalid_0's auc: 0.819268\n",
      "[46]\tvalid_0's auc: 0.81994\n",
      "[47]\tvalid_0's auc: 0.820864\n",
      "[48]\tvalid_0's auc: 0.821431\n",
      "[49]\tvalid_0's auc: 0.821571\n",
      "[50]\tvalid_0's auc: 0.821801\n",
      "[51]\tvalid_0's auc: 0.822859\n",
      "[52]\tvalid_0's auc: 0.823491\n",
      "[53]\tvalid_0's auc: 0.823685\n",
      "[54]\tvalid_0's auc: 0.824865\n",
      "[55]\tvalid_0's auc: 0.825747\n",
      "[56]\tvalid_0's auc: 0.826049\n",
      "[57]\tvalid_0's auc: 0.826321\n",
      "[58]\tvalid_0's auc: 0.826708\n",
      "[59]\tvalid_0's auc: 0.826903\n",
      "[60]\tvalid_0's auc: 0.827653\n",
      "[61]\tvalid_0's auc: 0.828127\n",
      "[62]\tvalid_0's auc: 0.829331\n",
      "[63]\tvalid_0's auc: 0.829671\n",
      "[64]\tvalid_0's auc: 0.830155\n",
      "[65]\tvalid_0's auc: 0.830136\n",
      "[66]\tvalid_0's auc: 0.830719\n",
      "[67]\tvalid_0's auc: 0.831304\n",
      "[68]\tvalid_0's auc: 0.832149\n",
      "[69]\tvalid_0's auc: 0.832256\n",
      "[70]\tvalid_0's auc: 0.83217\n",
      "[71]\tvalid_0's auc: 0.832352\n",
      "[72]\tvalid_0's auc: 0.832895\n",
      "[73]\tvalid_0's auc: 0.83393\n",
      "[74]\tvalid_0's auc: 0.83384\n",
      "[75]\tvalid_0's auc: 0.834732\n",
      "[76]\tvalid_0's auc: 0.834834\n",
      "[77]\tvalid_0's auc: 0.834782\n",
      "[78]\tvalid_0's auc: 0.83506\n",
      "[79]\tvalid_0's auc: 0.835691\n",
      "[80]\tvalid_0's auc: 0.835679\n",
      "[81]\tvalid_0's auc: 0.835762\n",
      "[82]\tvalid_0's auc: 0.836667\n",
      "[83]\tvalid_0's auc: 0.836792\n",
      "[84]\tvalid_0's auc: 0.837182\n",
      "[85]\tvalid_0's auc: 0.837201\n",
      "[86]\tvalid_0's auc: 0.837621\n",
      "[87]\tvalid_0's auc: 0.837944\n",
      "[88]\tvalid_0's auc: 0.838068\n",
      "[89]\tvalid_0's auc: 0.838184\n",
      "[90]\tvalid_0's auc: 0.838365\n",
      "[91]\tvalid_0's auc: 0.838668\n",
      "[92]\tvalid_0's auc: 0.8396\n",
      "[93]\tvalid_0's auc: 0.839526\n",
      "[94]\tvalid_0's auc: 0.839641\n",
      "[95]\tvalid_0's auc: 0.839715\n",
      "[96]\tvalid_0's auc: 0.839767\n",
      "[97]\tvalid_0's auc: 0.840459\n",
      "[98]\tvalid_0's auc: 0.840639\n",
      "[99]\tvalid_0's auc: 0.840787\n",
      "[100]\tvalid_0's auc: 0.841075\n"
     ]
    }
   ],
   "source": [
    "model = lightgbm.train(parameters,train_data,valid_sets=valid_data,num_boost_round=100)"
   ]
  },
  {
   "cell_type": "code",
   "execution_count": 106,
   "metadata": {
    "execution": {
     "iopub.execute_input": "2022-12-23T18:00:52.434652Z",
     "iopub.status.busy": "2022-12-23T18:00:52.434076Z",
     "iopub.status.idle": "2022-12-23T18:00:53.758992Z",
     "shell.execute_reply": "2022-12-23T18:00:53.757965Z",
     "shell.execute_reply.started": "2022-12-23T18:00:52.434614Z"
    }
   },
   "outputs": [],
   "source": [
    "y_train_predict = model.predict(X_train)\n",
    "y_valid_predict = model.predict(X_test)"
   ]
  },
  {
   "cell_type": "code",
   "execution_count": 112,
   "metadata": {
    "execution": {
     "iopub.execute_input": "2022-12-23T18:03:08.877873Z",
     "iopub.status.busy": "2022-12-23T18:03:08.877441Z",
     "iopub.status.idle": "2022-12-23T18:03:08.887370Z",
     "shell.execute_reply": "2022-12-23T18:03:08.886504Z",
     "shell.execute_reply.started": "2022-12-23T18:03:08.877840Z"
    }
   },
   "outputs": [
    {
     "data": {
      "text/plain": [
       "96484     0\n",
       "113038    0\n",
       "74327     0\n",
       "34142     0\n",
       "98880     0\n",
       "         ..\n",
       "195949    0\n",
       "4714      0\n",
       "41187     0\n",
       "117449    0\n",
       "162698    0\n",
       "Length: 60000, dtype: int64"
      ]
     },
     "execution_count": 112,
     "metadata": {},
     "output_type": "execute_result"
    }
   ],
   "source": [
    "y_train_predict\n"
   ]
  },
  {
   "cell_type": "code",
   "execution_count": 113,
   "metadata": {
    "execution": {
     "iopub.execute_input": "2022-12-23T18:03:19.883577Z",
     "iopub.status.busy": "2022-12-23T18:03:19.883188Z",
     "iopub.status.idle": "2022-12-23T18:03:19.893137Z",
     "shell.execute_reply": "2022-12-23T18:03:19.891791Z",
     "shell.execute_reply.started": "2022-12-23T18:03:19.883545Z"
    }
   },
   "outputs": [
    {
     "data": {
      "text/plain": [
       "96484     0\n",
       "113038    0\n",
       "74327     0\n",
       "34142     0\n",
       "98880     0\n",
       "         ..\n",
       "195949    0\n",
       "4714      0\n",
       "41187     0\n",
       "117449    0\n",
       "162698    0\n",
       "Length: 60000, dtype: int64"
      ]
     },
     "execution_count": 113,
     "metadata": {},
     "output_type": "execute_result"
    }
   ],
   "source": [
    "y_train"
   ]
  },
  {
   "cell_type": "code",
   "execution_count": 128,
   "metadata": {
    "execution": {
     "iopub.execute_input": "2022-12-23T18:10:08.560177Z",
     "iopub.status.busy": "2022-12-23T18:10:08.559716Z",
     "iopub.status.idle": "2022-12-23T18:10:08.601652Z",
     "shell.execute_reply": "2022-12-23T18:10:08.600164Z",
     "shell.execute_reply.started": "2022-12-23T18:10:08.560145Z"
    }
   },
   "outputs": [
    {
     "data": {
      "text/plain": [
       "0.5195164192682654"
      ]
     },
     "execution_count": 128,
     "metadata": {},
     "output_type": "execute_result"
    }
   ],
   "source": [
    "roc_auc_score(y_test,y_valid_predict)\n",
    "\n",
    "\n"
   ]
  },
  {
   "cell_type": "code",
   "execution_count": 127,
   "metadata": {
    "execution": {
     "iopub.execute_input": "2022-12-23T18:09:57.911880Z",
     "iopub.status.busy": "2022-12-23T18:09:57.911436Z",
     "iopub.status.idle": "2022-12-23T18:09:57.921303Z",
     "shell.execute_reply": "2022-12-23T18:09:57.919883Z",
     "shell.execute_reply.started": "2022-12-23T18:09:57.911846Z"
    }
   },
   "outputs": [
    {
     "data": {
      "text/plain": [
       "array([0., 0., 0., ..., 0., 0., 0.])"
      ]
     },
     "execution_count": 127,
     "metadata": {},
     "output_type": "execute_result"
    }
   ],
   "source": [
    "y_valid_predict"
   ]
  },
  {
   "cell_type": "code",
   "execution_count": 126,
   "metadata": {
    "execution": {
     "iopub.execute_input": "2022-12-23T18:09:55.379925Z",
     "iopub.status.busy": "2022-12-23T18:09:55.379391Z",
     "iopub.status.idle": "2022-12-23T18:09:55.448118Z",
     "shell.execute_reply": "2022-12-23T18:09:55.447208Z",
     "shell.execute_reply.started": "2022-12-23T18:09:55.379888Z"
    }
   },
   "outputs": [],
   "source": [
    "for i in range(len(y_valid_predict)):\n",
    "    if y_valid_predict[i]>=0.5:\n",
    "        y_valid_predict[i]=1\n",
    "    else:\n",
    "        y_valid_predict[i]=0\n",
    "        "
   ]
  },
  {
   "cell_type": "code",
   "execution_count": 129,
   "metadata": {
    "execution": {
     "iopub.execute_input": "2022-12-23T18:10:20.343071Z",
     "iopub.status.busy": "2022-12-23T18:10:20.342533Z",
     "iopub.status.idle": "2022-12-23T18:10:20.367267Z",
     "shell.execute_reply": "2022-12-23T18:10:20.366107Z",
     "shell.execute_reply.started": "2022-12-23T18:10:20.343032Z"
    }
   },
   "outputs": [
    {
     "data": {
      "text/plain": [
       "0.9040571428571429"
      ]
     },
     "execution_count": 129,
     "metadata": {},
     "output_type": "execute_result"
    }
   ],
   "source": [
    "accuracy_score(y_test,y_valid_predict)"
   ]
  },
  {
   "cell_type": "code",
   "execution_count": 130,
   "metadata": {
    "execution": {
     "iopub.execute_input": "2022-12-23T18:10:35.704712Z",
     "iopub.status.busy": "2022-12-23T18:10:35.704323Z",
     "iopub.status.idle": "2022-12-23T18:10:35.787073Z",
     "shell.execute_reply": "2022-12-23T18:10:35.785881Z",
     "shell.execute_reply.started": "2022-12-23T18:10:35.704681Z"
    }
   },
   "outputs": [
    {
     "data": {
      "text/plain": [
       "0.07582220999036743"
      ]
     },
     "execution_count": 130,
     "metadata": {},
     "output_type": "execute_result"
    }
   ],
   "source": [
    "f1_score(y_test,y_valid_predict)"
   ]
  },
  {
   "cell_type": "code",
   "execution_count": null,
   "metadata": {},
   "outputs": [],
   "source": []
  },
  {
   "cell_type": "code",
   "execution_count": null,
   "metadata": {},
   "outputs": [],
   "source": []
  }
 ],
 "metadata": {
  "kernelspec": {
   "display_name": "Python 3 (ipykernel)",
   "language": "python",
   "name": "python3"
  },
  "language_info": {
   "codemirror_mode": {
    "name": "ipython",
    "version": 3
   },
   "file_extension": ".py",
   "mimetype": "text/x-python",
   "name": "python",
   "nbconvert_exporter": "python",
   "pygments_lexer": "ipython3",
   "version": "3.9.7"
  }
 },
 "nbformat": 4,
 "nbformat_minor": 4
}
